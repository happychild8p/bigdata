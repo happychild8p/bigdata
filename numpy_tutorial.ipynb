{
 "cells": [
  {
   "cell_type": "code",
   "execution_count": 2,
   "metadata": {
    "scrolled": true
   },
   "outputs": [],
   "source": [
    "import numpy as np\n",
    "import matplotlib.pyplot as plt"
   ]
  },
  {
   "cell_type": "code",
   "execution_count": 128,
   "metadata": {},
   "outputs": [
    {
     "name": "stdout",
     "output_type": "stream",
     "text": [
      "[[ 0  1  2  3  4]\n",
      " [ 5  6  7  8  9]\n",
      " [10 11 12 13 14]]\n",
      "\n",
      "[[[ 0  1  2  3]\n",
      "  [ 4  5  6  7]]\n",
      "\n",
      " [[ 8  9 10 11]\n",
      "  [12 13 14 15]]]\n",
      "\n",
      "[0 1 2 3 4]\n",
      "2\n",
      "3\n",
      "1\n",
      "\n",
      "(3, 5)\n",
      "(2, 2, 4)\n",
      "(5,)\n",
      "\n",
      "int64\n",
      "int64\n",
      "int64\n",
      "\n",
      "8\n",
      "8\n",
      "8\n",
      "\n",
      "<memory at 0x7fdad1701450>\n",
      "<memory at 0x7fdad1781130>\n",
      "<memory at 0x7fdad17ddf40>\n",
      "\n"
     ]
    }
   ],
   "source": [
    "a = np.arange(15).reshape(3,5)\n",
    "b = np.arange(16).reshape(2,2,4)\n",
    "c = np.arange(5)\n",
    "print(a)\n",
    "print()\n",
    "print(b)\n",
    "print()\n",
    "print(c)\n",
    "print(a.ndim)\n",
    "print(b.ndim)\n",
    "print(c.ndim)\n",
    "print()\n",
    "print(a.shape)\n",
    "print(b.shape)\n",
    "print(c.shape)\n",
    "print()\n",
    "print(a.dtype)\n",
    "print(b.dtype)\n",
    "print(c.dtype)\n",
    "print()\n",
    "print(a.itemsize)\n",
    "print(b.itemsize)\n",
    "print(c.itemsize)\n",
    "print()\n",
    "print(a.data)\n",
    "print(b.data)\n",
    "print(c.data)  ### the actual data location (Memory location)\n",
    "print()"
   ]
  },
  {
   "cell_type": "code",
   "execution_count": 129,
   "metadata": {},
   "outputs": [
    {
     "name": "stdout",
     "output_type": "stream",
     "text": [
      "[0. 1. 2. 3. 4.]\n",
      "\n",
      "float64\n",
      "[[b'0' b'1' b'2' b'3' b'4']\n",
      " [b'5' b'6' b'7' b'8' b'9']\n",
      " [b'10' b'11' b'12' b'13' b'14']]\n",
      "|S21\n"
     ]
    },
    {
     "data": {
      "text/plain": [
       "array([['0', '1', '2', '3', '4'],\n",
       "       ['5', '6', '7', '8', '9'],\n",
       "       ['10', '11', '12', '13', '14']], dtype='<U21')"
      ]
     },
     "execution_count": 129,
     "metadata": {},
     "output_type": "execute_result"
    }
   ],
   "source": [
    "a1 = np.array([1,2,3], dtype=np.float64)\n",
    "a1.dtype\n",
    "b1 = np.array(b, dtype=np.int64)\n",
    "b1\n",
    "b1.itemsize\n",
    "a1.itemsize\n",
    "\n",
    "float_b1 = c.astype(np.float64)\n",
    "print(float_b1)\n",
    "print()\n",
    "print(float_b1.dtype)\n",
    "a2 = a.astype(np.string_)\n",
    "print(a2)\n",
    "print(a2.dtype)\n",
    "u1 = a2.astype(np.unicode_)\n",
    "u1"
   ]
  },
  {
   "cell_type": "code",
   "execution_count": 130,
   "metadata": {},
   "outputs": [
    {
     "name": "stdout",
     "output_type": "stream",
     "text": [
      "[ 3 -1 -2  0 12 10]\n",
      "\n",
      "int64\n",
      "[0 1 2 3 4 5 6 7 8 9]\n",
      "[0.22  0.27  0.357 0.38  0.44  0.5  ]\n",
      "<class 'numpy.ndarray'>\n",
      "float64\n",
      "\n",
      "float64\n",
      "\n"
     ]
    }
   ],
   "source": [
    "arr = np.array([3.7, -1.2, -2.6, 0.5, 12.9, 10.1])\n",
    "aa = arr.astype(np.int64)\n",
    "print(aa)\n",
    "print()\n",
    "print(aa.dtype)\n",
    "nc = np.array(['1.25','-9.6','42'], dtype=np.string_)\n",
    "nc.astype(np.float64)\n",
    "int_array = np.arange(10)\n",
    "print(int_array)\n",
    "calibers = np.array([.22, .270, .357, .380, .44, .50], dtype= np.float64)\n",
    "print(calibers)\n",
    "print(type(calibers))\n",
    "print(calibers.dtype)\n",
    "float_array = int_array.astype(calibers.dtype)\n",
    "print()\n",
    "print(float_array.dtype)\n",
    "print()"
   ]
  },
  {
   "cell_type": "code",
   "execution_count": 131,
   "metadata": {},
   "outputs": [
    {
     "name": "stdout",
     "output_type": "stream",
     "text": [
      "[1. 2. 3.]\n",
      "<class 'numpy.ndarray'>\n",
      "float64\n",
      "\n",
      "[1.0, 2.0, 3.0]\n",
      "<class 'list'>\n",
      "\n",
      "[1. 2. 3.]\n",
      "[1. 2. 3.]\n",
      "8\n",
      "b'\\x00\\x00\\x00\\x00\\x00\\x00\\xf0?\\x00\\x00\\x00\\x00\\x00\\x00\\x00@\\x00\\x00\\x00\\x00\\x00\\x00\\x08@'\n"
     ]
    },
    {
     "name": "stderr",
     "output_type": "stream",
     "text": [
      "<ipython-input-131-edee031db571>:18: DeprecationWarning: The binary mode of fromstring is deprecated, as it behaves surprisingly on unicode inputs. Use frombuffer instead\n",
      "  np.fromstring(s)\n"
     ]
    },
    {
     "data": {
      "text/plain": [
       "array([1., 2., 3.])"
      ]
     },
     "execution_count": 131,
     "metadata": {},
     "output_type": "execute_result"
    }
   ],
   "source": [
    "a = np.array([1,2,3], float)\n",
    "print(a)\n",
    "print(type(a))\n",
    "print(a.dtype)\n",
    "print()\n",
    "print(list(a))\n",
    "print(type(list(a)))\n",
    "print()\n",
    "print(np.asarray(list(a)))\n",
    "a = np.array([1,2,3], float)\n",
    "print(a)\n",
    "print(a.itemsize)\n",
    "\n",
    "a = np.array([1,2,3], dtype = float) \n",
    "\n",
    "s = a.tobytes() ## s.tostring()\n",
    "print(s)\n",
    "np.fromstring(s)"
   ]
  },
  {
   "cell_type": "code",
   "execution_count": 132,
   "metadata": {},
   "outputs": [
    {
     "name": "stdout",
     "output_type": "stream",
     "text": [
      "int64\n",
      "float64\n",
      "[[1 2 3]\n",
      " [4 5 6]],\n",
      "\n",
      " [[1.5 2.  3. ]\n",
      " [4.  5.  6. ]]\n",
      "\n",
      "[[1.+0.j 2.+0.j]\n",
      " [3.+0.j 4.+0.j]]\n",
      "\n",
      "[[4.9e-324 1.5e-323 2.0e-323]\n",
      " [3.0e-323 3.5e-323 4.4e-323]]\n",
      "\n",
      "\n",
      "[[1. 0. 0. 0.]\n",
      " [0. 1. 0. 0.]\n",
      " [0. 0. 1. 0.]\n",
      " [0. 0. 0. 1.]]\n",
      "\n",
      "\n",
      "[[7 7]\n",
      " [7 7]]\n",
      "\n",
      "\n",
      "[[1 1 1]\n",
      " [1 1 1]]\n",
      "\n"
     ]
    }
   ],
   "source": [
    "a = np.array([(1.5,2,3), (4,5,6)], dtype=np.int64)\n",
    "b = np.array([(1.5,2,3), (4,5,6)])\n",
    "print(a.dtype)\n",
    "print(b.dtype)\n",
    "print(f\"{a},\\n\\n {b}\\n\")\n",
    "c = np.array([[1,2], [3,4]], dtype=complex)\n",
    "print(c)\n",
    "np.zeros((3,4))\n",
    "d = np.ones((2,3,4), dtype=np.int16)\n",
    "#d.dtype\n",
    "print(f\"\\n{np.empty((2,3))}\\n\")\n",
    "print(f\"\\n{np.eye((4))}\\n\")\n",
    "print(f\"\\n{np.full((2,2),7)}\\n\")\n",
    "print(f\"\\n{np.ones_like(a)}\\n\")"
   ]
  },
  {
   "cell_type": "code",
   "execution_count": 134,
   "metadata": {},
   "outputs": [
    {
     "name": "stdout",
     "output_type": "stream",
     "text": [
      "[[10 15]\n",
      " [20 25]]\n",
      "\n",
      "[[-1.77900522 -0.01462448  0.6762498 ]\n",
      " [ 0.21076381 -1.86180235  0.27734607]]\n",
      "[ 0.11957237  0.09230309  1.02092398 ... -0.73688147 -0.59668259\n",
      " -0.43947623]\n"
     ]
    }
   ],
   "source": [
    "print(np.arange(10, 30, 5).reshape(2,2),end=\"\\n\\n\")\n",
    "np.arange(10, 40, 5)\n",
    "np.linspace(0, 2, 9)\n",
    "np.linspace(1, 100, 100).reshape((10,10))\n",
    "np.arange(24).reshape(2,3,4) ### (3,4) 짜리 2개 or z 축으로 2개의 3*4 행렬(3차원)\n",
    "np.linspace(0,99,100).reshape(10,10)\n",
    "###\n",
    "mean = 0; std = 1\n",
    "np.random.normal(mean, std, (10,5))\n",
    "a = np.random.randn(2,3)\n",
    "print(a)\n",
    "data = np.random.normal(0,1,2000)\n",
    "print(data)"
   ]
  },
  {
   "cell_type": "code",
   "execution_count": 26,
   "metadata": {},
   "outputs": [
    {
     "name": "stdout",
     "output_type": "stream",
     "text": [
      "[[ 1.34307925 -0.18677805  0.76068295]\n",
      " [ 0.22825048  1.84426625  0.21979016]]\n",
      "[[0.4336294  0.57395589 0.94707349]\n",
      " [0.01880701 0.05013785 0.20763916]]\n",
      "[[ 0.57305768 -0.94240135 -1.95610176]\n",
      " [-0.23476811  0.55264247  0.12248271]]\n"
     ]
    }
   ],
   "source": [
    "mean = 0; std = 1;\n",
    "a = np.random.normal(mean, std, (2,3))\n",
    "print(a)\n",
    "a = np.random.random((2,3))\n",
    "print(a)\n",
    "a = np.random.randn(2,3)\n",
    "print(a)"
   ]
  },
  {
   "cell_type": "code",
   "execution_count": 33,
   "metadata": {},
   "outputs": [
    {
     "data": {
      "image/png": "[encoded data removed]",
      "text/plain": [
       "<Figure size 432x288 with 1 Axes>"
      ]
     },
     "metadata": {
      "needs_background": "light"
     },
     "output_type": "display_data"
    }
   ],
   "source": [
    "d = np.random.normal(mean, std, 1000)\n",
    "plt.hist(d, bins=100)\n",
    "plt.show()"
   ]
  },
  {
   "cell_type": "code",
   "execution_count": 35,
   "metadata": {},
   "outputs": [
    {
     "data": {
      "image/png": "[encoded data removed]",
      "text/plain": [
       "<Figure size 432x288 with 1 Axes>"
      ]
     },
     "metadata": {
      "needs_background": "light"
     },
     "output_type": "display_data"
    }
   ],
   "source": [
    "e = np.random.rand(2000)\n",
    "plt.hist(e, bins = 20)\n",
    "plt.show()"
   ]
  },
  {
   "cell_type": "code",
   "execution_count": 45,
   "metadata": {},
   "outputs": [
    {
     "name": "stdout",
     "output_type": "stream",
     "text": [
      "[[6 5 5 9]\n",
      " [8 9 7 5]]\n",
      "[[0.54340494 0.27836939]\n",
      " [0.42451759 0.84477613]]\n"
     ]
    },
    {
     "data": {
      "text/plain": [
       "array([[4, 2, 5],\n",
       "       [2, 2, 2]])"
      ]
     },
     "execution_count": 45,
     "metadata": {},
     "output_type": "execute_result"
    }
   ],
   "source": [
    "a = np.random.randint(5, 10, size =(2,4))\n",
    "print(a)\n",
    "np.random.seed(100)\n",
    "print(np.random.random((2,2)))\n",
    "np.random.randint(0,10,(2,3))"
   ]
  },
  {
   "cell_type": "code",
   "execution_count": 50,
   "metadata": {},
   "outputs": [
    {
     "name": "stdout",
     "output_type": "stream",
     "text": [
      "[0. 1. 2. 3. 4. 5. 6. 7. 8. 9.]\n",
      "[[0. 1.]\n",
      " [2. 3.]\n",
      " [4. 5.]\n",
      " [6. 7.]\n",
      " [8. 9.]]\n"
     ]
    },
    {
     "data": {
      "text/plain": [
       "array([[0, 1, 2, 3, 4],\n",
       "       [5, 6, 7, 8, 9]])"
      ]
     },
     "execution_count": 50,
     "metadata": {},
     "output_type": "execute_result"
    }
   ],
   "source": [
    "a = np.array(range(10), float)\n",
    "print(a)\n",
    "a = a.reshape(5,2)\n",
    "print(a)\n",
    "a.shape\n",
    "np.arange(10).reshape(-1,5)"
   ]
  },
  {
   "cell_type": "code",
   "execution_count": 63,
   "metadata": {},
   "outputs": [
    {
     "name": "stdout",
     "output_type": "stream",
     "text": [
      "[[1 2 3]\n",
      " [4 5 6]]\n",
      "[1 2 3 4 5 6]\n",
      "[[1 2 3]\n",
      " [4 5 6]]\n",
      "[1 2 3 4 5 6]\n",
      "[[1 2 3]\n",
      " [4 5 6]]\n"
     ]
    },
    {
     "data": {
      "text/plain": [
       "array([1, 2, 3, 4, 5, 6])"
      ]
     },
     "execution_count": 63,
     "metadata": {},
     "output_type": "execute_result"
    }
   ],
   "source": [
    "a = np.array([[1,2,3],[4,5,6]], int)\n",
    "a.dtype\n",
    "print(a)\n",
    "print(a.flatten())\n",
    "print(a.reshape(2,3))\n",
    "print(a.ravel())\n",
    "print(a.reshape(-1,3))\n",
    "a.reshape(-1)"
   ]
  },
  {
   "cell_type": "code",
   "execution_count": 67,
   "metadata": {},
   "outputs": [
    {
     "name": "stdout",
     "output_type": "stream",
     "text": [
      "[[99.  1.  2.]\n",
      " [ 3.  4.  5.]]\n",
      "[[0. 1. 2.]\n",
      " [3. 4. 5.]]\n"
     ]
    },
    {
     "data": {
      "text/plain": [
       "array([[0., 3.],\n",
       "       [1., 4.],\n",
       "       [2., 5.]])"
      ]
     },
     "execution_count": 67,
     "metadata": {},
     "output_type": "execute_result"
    }
   ],
   "source": [
    "a[0][0] = 99\n",
    "print(a)\n",
    "a = np.array(range(6), float).reshape((2,3))\n",
    "print(a)\n",
    "a.T"
   ]
  },
  {
   "cell_type": "code",
   "execution_count": 110,
   "metadata": {
    "scrolled": true
   },
   "outputs": [
    {
     "name": "stdout",
     "output_type": "stream",
     "text": [
      "[[1 2]\n",
      " [3 4]]\n",
      "[[5 6]\n",
      " [7 8]]\n",
      "[1 2 3 4 5 6 7 8]\n",
      "\n",
      "[[1 2]\n",
      " [3 4]\n",
      " [5 6]\n",
      " [7 8]]\n",
      "[[1 2 5 6]\n",
      " [3 4 7 8]]\n",
      "\n",
      "[[1 2 3]\n",
      " [4 5 6]\n",
      " [7 8 9]]\n",
      "[999   1   2 998   3   4   5   6   7   8   9]\n",
      "[[  1   2   3]\n",
      " [999 999 999]\n",
      " [  4   5   6]\n",
      " [999 999 999]\n",
      " [  7   8   9]]\n",
      "\n",
      "[[  1 555   2   3 111]\n",
      " [  4 555   5   6 111]\n",
      " [  7 555   8   9 111]]\n",
      "\n",
      "[[1 2 3]\n",
      " [4 5 6]\n",
      " [7 8 9]]\n"
     ]
    }
   ],
   "source": [
    "a = np.arange(1, 5).reshape(2,2)\n",
    "b = np.arange(5, 9).reshape(2,2)\n",
    "print(a)\n",
    "print(b)\n",
    "c = np.append(a,b)\n",
    "print(c)\n",
    "print()\n",
    "d = np.append(a,b ,axis=0)\n",
    "print(d)\n",
    "e = np.append(a,b, axis=1)\n",
    "print(e)\n",
    "a = np.arange(1, 10).reshape(3,3)\n",
    "print()\n",
    "print(a)\n",
    "np.insert(a,0,999)\n",
    "print(np.insert(a,[0,2],[999,998]))\n",
    "b = np.insert(a, [1,2], 999, axis=0)\n",
    "print(b)\n",
    "c = np.insert(a, [1,3], [555,111], axis=1)\n",
    "print()\n",
    "print(c)\n",
    "a = np.arange(1, 10).reshape(3,3)\n",
    "print()\n",
    "print(a)"
   ]
  },
  {
   "cell_type": "code",
   "execution_count": 119,
   "metadata": {},
   "outputs": [
    {
     "name": "stdout",
     "output_type": "stream",
     "text": [
      "[1 3 5 6 7 9]\n",
      "[[1 2 3]\n",
      " [7 8 9]]\n",
      "[[1 2 3]\n",
      " [4 5 6]\n",
      " [7 8 9]]\n",
      "[[1 3]\n",
      " [4 6]\n",
      " [7 9]]\n",
      "[[4 5 6]]\n"
     ]
    },
    {
     "data": {
      "text/plain": [
       "array([[2],\n",
       "       [5],\n",
       "       [8]])"
      ]
     },
     "execution_count": 119,
     "metadata": {},
     "output_type": "execute_result"
    }
   ],
   "source": [
    "b = np.delete(a,[1,3,7])\n",
    "print(b)\n",
    "c = np.delete(a, 1, axis =0)\n",
    "print(c)\n",
    "print(a)\n",
    "d = np.delete(a, 1, axis=1)\n",
    "print(d)\n",
    "e = np.delete(a, [0,2], axis=0)\n",
    "print(e)\n",
    "e = np.delete(a, [0,2], axis=1)\n",
    "e"
   ]
  },
  {
   "cell_type": "code",
   "execution_count": 127,
   "metadata": {},
   "outputs": [
    {
     "name": "stdout",
     "output_type": "stream",
     "text": [
      "[1. 2. 3. 4. 5. 6. 7. 8. 9.]\n",
      "[[1. 2.]\n",
      " [3. 4.]\n",
      " [5. 6.]\n",
      " [7. 8.]]\n"
     ]
    },
    {
     "data": {
      "text/plain": [
       "array([[[1., 5.],\n",
       "        [2., 6.]],\n",
       "\n",
       "       [[3., 7.],\n",
       "        [4., 8.]]])"
      ]
     },
     "execution_count": 127,
     "metadata": {},
     "output_type": "execute_result"
    }
   ],
   "source": [
    "a = np.array([1,2],float)\n",
    "b = np.array([3,4,5,6], float)\n",
    "c = np.array([7,8,9], float)\n",
    "print(np.concatenate((a,b,c)))\n",
    "a = np.array([[1,2],[3,4]],float)\n",
    "b = np.array([[5,6],[7,8]],float)\n",
    "print(np.concatenate((a,b), axis =0))\n",
    "np.concatenate((a,b), axis=1)\n",
    "np.dstack((a,b))"
   ]
  },
  {
   "cell_type": "code",
   "execution_count": 193,
   "metadata": {
    "scrolled": true
   },
   "outputs": [
    {
     "name": "stdout",
     "output_type": "stream",
     "text": [
      "[0 1]\n",
      "[0 2]\n",
      "[[0 0]\n",
      " [1 2]]\n",
      "\n",
      "[[0 1]\n",
      " [0 2]]\n",
      "\n",
      "[[0 1 2]\n",
      " [3 4 5]\n",
      " [6 7 8]]\n",
      "[array([[0, 1, 2]]), array([[3, 4, 5]]), array([[6, 7, 8]])]\n",
      "[array([[0],\n",
      "       [3],\n",
      "       [6]]), array([[1],\n",
      "       [4],\n",
      "       [7]]), array([[2],\n",
      "       [5],\n",
      "       [8]])]\n",
      "[[[ 0  1  2]\n",
      "  [ 3  4  5]\n",
      "  [ 6  7  8]]\n",
      "\n",
      " [[ 9 10 11]\n",
      "  [12 13 14]\n",
      "  [15 16 17]]\n",
      "\n",
      " [[18 19 20]\n",
      "  [21 22 23]\n",
      "  [24 25 26]]]\n",
      "[array([[[ 0],\n",
      "        [ 3],\n",
      "        [ 6]],\n",
      "\n",
      "       [[ 9],\n",
      "        [12],\n",
      "        [15]],\n",
      "\n",
      "       [[18],\n",
      "        [21],\n",
      "        [24]]]), array([[[ 1],\n",
      "        [ 4],\n",
      "        [ 7]],\n",
      "\n",
      "       [[10],\n",
      "        [13],\n",
      "        [16]],\n",
      "\n",
      "       [[19],\n",
      "        [22],\n",
      "        [25]]]), array([[[ 2],\n",
      "        [ 5],\n",
      "        [ 8]],\n",
      "\n",
      "       [[11],\n",
      "        [14],\n",
      "        [17]],\n",
      "\n",
      "       [[20],\n",
      "        [23],\n",
      "        [26]]])]\n",
      "[array([[[ 0,  1,  2]],\n",
      "\n",
      "       [[ 9, 10, 11]],\n",
      "\n",
      "       [[18, 19, 20]]]), array([[[ 3,  4,  5]],\n",
      "\n",
      "       [[12, 13, 14]],\n",
      "\n",
      "       [[21, 22, 23]]]), array([[[ 6,  7,  8]],\n",
      "\n",
      "       [[15, 16, 17]],\n",
      "\n",
      "       [[24, 25, 26]]])]\n"
     ]
    }
   ],
   "source": [
    "a = np.arange(2); b = a*2\n",
    "print(f\"{a}\\n{b}\")\n",
    "print(np.column_stack((a,b)))\n",
    "print()\n",
    "print(np.row_stack((a,b)))\n",
    "a = np.arange(0,9).reshape(3,3)\n",
    "print()\n",
    "print(a)\n",
    "print(np.split(a, 3, axis=0))\n",
    "print(np.split(a, 3, axis=1))\n",
    "c = np.arange(27).reshape(3,3,3)\n",
    "np.vsplit(c,3)\n",
    "print(c)\n",
    "print(np.dsplit(c,3))\n",
    "print(np.hsplit(c,3))"
   ]
  },
  {
   "cell_type": "code",
   "execution_count": 194,
   "metadata": {},
   "outputs": [
    {
     "name": "stdout",
     "output_type": "stream",
     "text": [
      "[[[ 0  1  2]\n",
      "  [ 3  4  5]]\n",
      "\n",
      " [[ 9 10 11]\n",
      "  [12 13 14]]\n",
      "\n",
      " [[18 19 20]\n",
      "  [21 22 23]]]\n",
      "\n",
      "\n",
      "[[[ 6  7  8]]\n",
      "\n",
      " [[15 16 17]]\n",
      "\n",
      " [[24 25 26]]]\n",
      "\n",
      "\n",
      "[]\n",
      "[[ 1  2]\n",
      " [ 7  8]\n",
      " [13 14]\n",
      " [19 20]] [[ 3  4]\n",
      " [ 9 10]\n",
      " [15 16]\n",
      " [21 22]] [[ 5  6]\n",
      " [11 12]\n",
      " [17 18]\n",
      " [23 24]]\n",
      "[array([[ 1,  2],\n",
      "       [ 7,  8],\n",
      "       [13, 14],\n",
      "       [19, 20]]), array([[ 3,  4],\n",
      "       [ 9, 10],\n",
      "       [15, 16],\n",
      "       [21, 22]]), array([[ 5,  6],\n",
      "       [11, 12],\n",
      "       [17, 18],\n",
      "       [23, 24]])]\n",
      "\n",
      "\n",
      "\n",
      "\n",
      "\n",
      "[array([[ 1],\n",
      "       [ 7],\n",
      "       [13],\n",
      "       [19]]), array([[ 2,  3],\n",
      "       [ 8,  9],\n",
      "       [14, 15],\n",
      "       [20, 21]]), array([[ 4,  5],\n",
      "       [10, 11],\n",
      "       [16, 17],\n",
      "       [22, 23]]), array([[ 6],\n",
      "       [12],\n",
      "       [18],\n",
      "       [24]])]\n",
      "[[ 1]\n",
      " [ 7]\n",
      " [13]\n",
      " [19]] [[ 2  3]\n",
      " [ 8  9]\n",
      " [14 15]\n",
      " [20 21]] [[ 4  5]\n",
      " [10 11]\n",
      " [16 17]\n",
      " [22 23]] [[ 6]\n",
      " [12]\n",
      " [18]\n",
      " [24]]\n"
     ]
    }
   ],
   "source": [
    "print(f\"{c[:,:2]}\\n\\n\\n{c[:,2:4]}\\n\\n\\n{a[:,4:]}\")\n",
    "a = np.arange(1,25).reshape(4,-1)\n",
    "print(f\"{a[:,:2]} {a[:,2:4]} {a[:,4:]}\")\n",
    "print(np.hsplit(a,3))\n",
    "print(\"\\n\\n\\n\\n\")\n",
    "print(np.hsplit(a,[1,3,5]))\n",
    "print(f\"{a[:,:1]} {a[:,1:3]} {a[:,3:5]} {a[:,5:]}\")"
   ]
  },
  {
   "cell_type": "code",
   "execution_count": 195,
   "metadata": {
    "scrolled": true
   },
   "outputs": [
    {
     "name": "stdout",
     "output_type": "stream",
     "text": [
      "[array([[1, 2, 3, 4, 5, 6]]), array([[ 7,  8,  9, 10, 11, 12]]), array([[13, 14, 15, 16, 17, 18]]), array([[19, 20, 21, 22, 23, 24]])]\n",
      "[1 2 3 4 5 6]\n",
      "[ 7  8  9 10 11 12]\n",
      "[13 14 15 16 17 18]\n",
      "[19 20 21 22 23 24]\n",
      "\n",
      "[array([[1, 2, 3, 4, 5, 6]]), array([[ 7,  8,  9, 10, 11, 12],\n",
      "       [13, 14, 15, 16, 17, 18]]), array([[19, 20, 21, 22, 23, 24]])]\n",
      "[1 2 3 4 5 6]\n",
      "[[ 7  8  9 10 11 12]\n",
      " [13 14 15 16 17 18]]\n",
      "[[19 20 21 22 23 24]]\n"
     ]
    }
   ],
   "source": [
    "print(np.vsplit(a,4))\n",
    "print(f\"{a[0,:]}\\n{a[1,:]}\\n{a[2,:]}\\n{a[3,:]}\\n\")\n",
    "print(np.vsplit(a,[1,3]))\n",
    "print(f\"{a[0,:]}\\n{a[1:3,:]}\\n{a[3:,:]}\")"
   ]
  },
  {
   "cell_type": "code",
   "execution_count": 210,
   "metadata": {},
   "outputs": [
    {
     "name": "stdout",
     "output_type": "stream",
     "text": [
      "[[ 8  9 10 11]\n",
      " [14 15 16 17]]\n",
      "\n",
      "[[ 8  9 10 11]\n",
      " [14 15 16 17]]\n",
      "[1. 4. 5. 8.]\n",
      "[1. 4.]\n",
      "8.0\n",
      "[99.  4.  5.  8.]\n",
      "1.0\n",
      "2.0\n",
      "[[1. 2. 3.]\n",
      " [4. 5. 6.]]\n",
      "[4. 5. 6.]\n",
      "[3. 6.]\n",
      "\n",
      "[[5. 6.]]\n"
     ]
    }
   ],
   "source": [
    "print(a[1:3,1:5])\n",
    "print()\n",
    "print(a[1:-1,1:-1])\n",
    "b = np.array([1,4,5,8], float)\n",
    "print(b)\n",
    "print(b[:2])\n",
    "print(b[3])\n",
    "b[0] = 99\n",
    "print(b)\n",
    "c = np.array([[1,2,3],[4,5,6]],float)\n",
    "print(c[0,0])\n",
    "print(c[0,1])\n",
    "print(c)\n",
    "print(c[1,:])\n",
    "print(c[:,2])\n",
    "print()\n",
    "print(c[-1:,-2:])"
   ]
  },
  {
   "cell_type": "code",
   "execution_count": 229,
   "metadata": {},
   "outputs": [
    {
     "name": "stdout",
     "output_type": "stream",
     "text": [
      "[[ 1  2  3  4  5  6]\n",
      " [ 7  8  9 10 11 12]\n",
      " [13 14 15 16 17 18]\n",
      " [19 20 21 22 23 24]]\n",
      "[[  1 999 999   4   5   6]\n",
      " [  7 999 999  10  11  12]\n",
      " [ 13 999 999  16  17  18]\n",
      " [ 19 999 999  22  23  24]]\n",
      "[[999   4   1]\n",
      " [999  10   7]]\n",
      "[6. 9.]\n",
      "[6.]\n",
      "[9.]\n"
     ]
    }
   ],
   "source": [
    "a1 = np.arange(1,25).reshape((4,6))\n",
    "print(a1)\n",
    "a1[:,1:3] = 999\n",
    "print(a1)\n",
    "print(a1[0:2,[1,3,0]])\n",
    "a = np.array([[6,4],[5,9]], float)\n",
    "a >=6\n",
    "a[a>=6]\n",
    "a= np.array([[6,4],[5,9]], float)\n",
    "condi = ( a >= 6)\n",
    "print(a[condi])\n",
    "condi = np.logical_and(a>5, a<9)\n",
    "print(a[condi])\n",
    "condi2 = np.logical_or(a<4, a>7)\n",
    "print(a[condi2])"
   ]
  },
  {
   "cell_type": "code",
   "execution_count": 238,
   "metadata": {},
   "outputs": [
    {
     "name": "stdout",
     "output_type": "stream",
     "text": [
      "[[ 0  1  2  3]\n",
      " [ 4  5  6  7]\n",
      " [ 8  9 10 11]]\n",
      "[[False False False False]\n",
      " [False  True  True  True]\n",
      " [ True  True  True  True]]\n",
      "[[0 1 2 3]\n",
      " [4 0 0 0]\n",
      " [0 0 0 0]]\n"
     ]
    }
   ],
   "source": [
    "a = np.array([2,4,6,8], float); b = np.array([0,0,1,3,2,1], int)\n",
    "a[b]\n",
    "\n",
    "a = np.array([[1,4],[9,16]], float)\n",
    "b = np.array([0,0,1,1,0],int)\n",
    "c = np.array([0,1,1,1,1], int)\n",
    "a[b,c]\n",
    "\n",
    "a = np.arange(12).reshape(3,4)\n",
    "print(a)\n",
    "b = a > 4\n",
    "print(b)\n",
    "a[b]\n",
    "a[b] = 0\n",
    "print(a)"
   ]
  },
  {
   "cell_type": "code",
   "execution_count": 257,
   "metadata": {},
   "outputs": [
    {
     "name": "stdout",
     "output_type": "stream",
     "text": [
      "[[ 1  2  3  4  5  6]\n",
      " [ 7  8  9 10 11 12]\n",
      " [13 14 15 16 17 18]\n",
      " [19 20 21 22 23 24]]\n",
      "[1, 8, 15, 22]\n",
      "\n",
      "[ 1  8 15 22]\n",
      "\n",
      "[[ 2  3]\n",
      " [ 8  9]\n",
      " [14 15]\n",
      " [20 21]]\n",
      "[[ 0  1  2  3]\n",
      " [ 4  5  6  7]\n",
      " [ 8  9 10 11]]\n",
      "\n",
      "[[ 2  5]\n",
      " [ 7 11]]\n",
      "\n",
      "[[ 2  6]\n",
      " [ 6 10]]\n"
     ]
    }
   ],
   "source": [
    "a = np.arange(1,25).reshape((4,6))\n",
    "print(a)\n",
    "print([a[0,0], a[1,1], a[2,2], a[3,3]])\n",
    "print()\n",
    "print(a[[0,1,2,3],[0,1,2,3]])\n",
    "print()\n",
    "print(a[:,[1,2]])\n",
    "no = [1,2]\n",
    "a[:,no]\n",
    "b = np.arange(12).reshape(3,4)\n",
    "print(b)\n",
    "\n",
    "i = np.array([[0,1],[1,2]]); j = np.array([[2,1],[3,3]])\n",
    "print()\n",
    "print(b[i,j])\n",
    "print()\n",
    "print(b[i,2])"
   ]
  },
  {
   "cell_type": "code",
   "execution_count": 291,
   "metadata": {},
   "outputs": [
    {
     "name": "stdout",
     "output_type": "stream",
     "text": [
      "[ 20.    51.25  82.5  113.75 145.  ] \n",
      " [[ 0.          0.84147098  0.90929743  0.14112001]\n",
      " [-0.7568025  -0.95892427 -0.2794155   0.6569866 ]\n",
      " [ 0.98935825  0.41211849 -0.54402111 -0.99999021]\n",
      " [-0.53657292  0.42016704  0.99060736  0.65028784]\n",
      " [-0.28790332 -0.96139749 -0.75098725  0.14987721]]\n",
      "[2 0 3 1] \n",
      " [2 3 0 2 3]\n",
      "[ 20.    51.25  82.5  113.75 145.  ]\n",
      "[ 82.5   20.   113.75  51.25]\n",
      "RAnge range(0, 4)\n",
      "[0.98935825 0.84147098 0.99060736 0.6569866 ]\n",
      "[0.98935825 0.84147098 0.99060736 0.6569866 ]\n",
      "[0.90929743 0.6569866  0.98935825 0.99060736 0.14987721]\n",
      "[[False  True False False]\n",
      " [False False False  True]\n",
      " [ True False False False]\n",
      " [False False  True False]\n",
      " [False False False False]]\n"
     ]
    },
    {
     "data": {
      "text/plain": [
       "True"
      ]
     },
     "execution_count": 291,
     "metadata": {},
     "output_type": "execute_result"
    }
   ],
   "source": [
    "time = np.linspace(20, 145, 5)\n",
    "data = np.sin(np.arange(20)).reshape(5,4)\n",
    "print(time, \"\\n\", data)\n",
    "\n",
    "ind = data.argmax(axis =0)\n",
    "indv = data.argmax(axis =1)\n",
    "print(ind, \"\\n\", indv)\n",
    "time_max = time[ind]\n",
    "print(time)\n",
    "print(time_max)\n",
    "print(\"RAnge\",range(data.shape[1]))\n",
    "data_max = data[ind, range(data.shape[1])]\n",
    "print(data_max)\n",
    "print(data.max(axis=0))\n",
    "print(data.max(axis=1))\n",
    "print(data == data.max(axis=0))\n",
    "np.all(data_max == data.max(axis=0))"
   ]
  },
  {
   "cell_type": "code",
   "execution_count": 299,
   "metadata": {},
   "outputs": [
    {
     "name": "stdout",
     "output_type": "stream",
     "text": [
      "[0 1 2 3 4]\n",
      "[0 0 2 0 0]\n",
      "[0 1 2 3 4]\n",
      "[2 1 3 3 4]\n"
     ]
    }
   ],
   "source": [
    "a = np.arange(5)\n",
    "print(a)\n",
    "a[[1,3,4]] = 0\n",
    "print(a)\n",
    "a = np.arange(5)\n",
    "print(a)\n",
    "a[[0,0,2]] = [1,2,3]\n",
    "print(a)"
   ]
  },
  {
   "cell_type": "code",
   "execution_count": 312,
   "metadata": {},
   "outputs": [
    {
     "name": "stdout",
     "output_type": "stream",
     "text": [
      "[6. 4. 9.]\n",
      "[-4.  0. -3.]\n",
      "[ 5.  4. 18.]\n",
      "[5. 1. 2.]\n",
      "[1. 0. 3.]\n",
      "[  5.   4. 216.]\n",
      "\n",
      "[148.4131591    7.3890561  403.42879349]\n",
      "[2.23606798 1.41421356 2.44948974]\n",
      "[-0.95892427  0.90929743 -0.2794155 ]\n",
      "[1.60943791 0.69314718 1.79175947]\n",
      "27.0\n"
     ]
    }
   ],
   "source": [
    "a = np.array([1,2,3],float); b = np.array([5,2,6], float)\n",
    "print(a+b)\n",
    "print(a-b)\n",
    "print(a*b)\n",
    "print(b/a)\n",
    "print(a%b)\n",
    "print(b**a)\n",
    "print()\n",
    "print(np.exp(b)) #### what it this??\n",
    "print(np.sqrt(b))\n",
    "print(np.sin(b))\n",
    "print(np.log(b))\n",
    "print(np.dot(a,b)) ### Multiply same index element for each and add em together"
   ]
  },
  {
   "cell_type": "code",
   "execution_count": 326,
   "metadata": {},
   "outputs": [
    {
     "name": "stdout",
     "output_type": "stream",
     "text": [
      "bool\n",
      "[ True False False]\n",
      "[False  True False]\n",
      "[ True False  True]\n",
      "False\n",
      "True\n"
     ]
    },
    {
     "data": {
      "text/plain": [
       "False"
      ]
     },
     "execution_count": 326,
     "metadata": {},
     "output_type": "execute_result"
    }
   ],
   "source": [
    "a = np.array([1,3,0], float); b =np.array([0,3,2], float)\n",
    "a > b\n",
    "c = a > b\n",
    "print(c.dtype)\n",
    "print(c)\n",
    "print(a == b)\n",
    "print(a != b)\n",
    "print(np.array_equal(a,b))\n",
    "d = a\n",
    "print(np.array_equal(a,d))\n",
    "e = np.array([1,3,0], float)\n",
    "e > 2\n",
    "f = np.array([True, False, False], bool)\n",
    "np.any(c)\n",
    "np.all(c)"
   ]
  },
  {
   "cell_type": "code",
   "execution_count": 334,
   "metadata": {},
   "outputs": [
    {
     "name": "stdout",
     "output_type": "stream",
     "text": [
      "[False  True  True]\n",
      "[ True False False]\n",
      "[False  True False]\n"
     ]
    },
    {
     "data": {
      "text/plain": [
       "array([ True,  True, False])"
      ]
     },
     "execution_count": 334,
     "metadata": {},
     "output_type": "execute_result"
    }
   ],
   "source": [
    "a = np.array([1,3,0], float)\n",
    "b=np.logical_and(a>0, a<3)\n",
    "print(np.logical_not(b))\n",
    "print(b)\n",
    "c = np.logical_not(b)\n",
    "c[2] = False\n",
    "print(c)\n",
    "np.logical_or(b,c)"
   ]
  },
  {
   "cell_type": "code",
   "execution_count": 3,
   "metadata": {},
   "outputs": [
    {
     "name": "stdout",
     "output_type": "stream",
     "text": [
      "[1. 3.]\n",
      "[ 1. nan inf]\n",
      "\n",
      "[False  True False]\n",
      "\n",
      "[ True False False]\n",
      "[[ 0  1  2  3  4  5  6  7  8  9 10 11 12 13 14 15 16 17 18 19 20 21 22 23\n",
      "  24 25 26 27 28 29 30 31 32 33 34 35 36 37 38 39 40 41 42 43 44 45 46 47\n",
      "  48 49]\n",
      " [50 51 52 53 54 55 56 57 58 59 60 61 62 63 64 65 66 67 68 69 70 71 72 73\n",
      "  74 75 76 77 78 79 80 81 82 83 84 85 86 87 88 89 90 91 92 93 94 95 96 97\n",
      "  98 99]]\n",
      "\n",
      "\n",
      "[[ 0  3]\n",
      " [ 0  4]\n",
      " [ 0  5]\n",
      " [ 0  6]\n",
      " [ 0  7]\n",
      " [ 0  8]\n",
      " [ 0  9]\n",
      " [ 0 10]\n",
      " [ 0 11]\n",
      " [ 0 12]\n",
      " [ 0 13]\n",
      " [ 0 14]\n",
      " [ 0 15]\n",
      " [ 0 16]\n",
      " [ 0 17]\n",
      " [ 0 18]\n",
      " [ 0 19]\n",
      " [ 0 20]\n",
      " [ 0 21]\n",
      " [ 0 22]\n",
      " [ 0 23]\n",
      " [ 0 24]\n",
      " [ 0 25]\n",
      " [ 0 26]\n",
      " [ 0 27]\n",
      " [ 0 28]\n",
      " [ 0 29]\n",
      " [ 0 30]\n",
      " [ 0 31]\n",
      " [ 0 32]\n",
      " [ 0 33]\n",
      " [ 0 34]\n",
      " [ 0 35]\n",
      " [ 0 36]\n",
      " [ 0 37]\n",
      " [ 0 38]\n",
      " [ 0 39]\n",
      " [ 0 40]\n",
      " [ 0 41]\n",
      " [ 0 42]\n",
      " [ 0 43]\n",
      " [ 0 44]\n",
      " [ 0 45]\n",
      " [ 0 46]\n",
      " [ 0 47]\n",
      " [ 0 48]\n",
      " [ 0 49]\n",
      " [ 1  0]\n",
      " [ 1  1]\n",
      " [ 1  2]\n",
      " [ 1  3]\n",
      " [ 1  4]\n",
      " [ 1  5]\n",
      " [ 1  6]\n",
      " [ 1  7]\n",
      " [ 1  8]\n",
      " [ 1  9]\n",
      " [ 1 10]\n",
      " [ 1 11]\n",
      " [ 1 12]\n",
      " [ 1 13]\n",
      " [ 1 14]\n",
      " [ 1 15]\n",
      " [ 1 16]\n",
      " [ 1 17]\n",
      " [ 1 18]\n",
      " [ 1 19]\n",
      " [ 1 20]\n",
      " [ 1 21]\n",
      " [ 1 22]\n",
      " [ 1 23]\n",
      " [ 1 24]\n",
      " [ 1 25]\n",
      " [ 1 26]\n",
      " [ 1 27]\n",
      " [ 1 28]\n",
      " [ 1 29]\n",
      " [ 1 30]\n",
      " [ 1 31]\n",
      " [ 1 32]\n",
      " [ 1 33]\n",
      " [ 1 34]\n",
      " [ 1 35]\n",
      " [ 1 36]\n",
      " [ 1 37]\n",
      " [ 1 38]\n",
      " [ 1 39]\n",
      " [ 1 40]\n",
      " [ 1 41]\n",
      " [ 1 42]\n",
      " [ 1 43]\n",
      " [ 1 44]\n",
      " [ 1 45]\n",
      " [ 1 46]\n",
      " [ 1 47]\n",
      " [ 1 48]\n",
      " [ 1 49]]\n"
     ]
    }
   ],
   "source": [
    "a = np.array([1,3,0], float)\n",
    "b = np.where(a > 0)\n",
    "print(a[b])\n",
    "a = np.array([[0,1],[3,0]], float)\n",
    "a.nonzero()\n",
    "a = np.array([1, np.NaN, np.Inf], float)\n",
    "print(a)\n",
    "print()\n",
    "print(np.isnan(a))\n",
    "print()\n",
    "print(np.isfinite(a))\n",
    "a = np.arange(100).reshape(2,-1)\n",
    "print(a)\n",
    "print()\n",
    "np.where((a > 50) & (a < 70))\n",
    "np.sum((a>50) & (a< 70))\n",
    "print()\n",
    "\n",
    "print(np.argwhere(a>2))"
   ]
  },
  {
   "cell_type": "code",
   "execution_count": 4,
   "metadata": {},
   "outputs": [
    {
     "name": "stdout",
     "output_type": "stream",
     "text": [
      "[ 6.  2.  5. -1.  0.]\n"
     ]
    },
    {
     "data": {
      "text/plain": [
       "array([5., 2., 5., 0., 0.])"
      ]
     },
     "execution_count": 4,
     "metadata": {},
     "output_type": "execute_result"
    }
   ],
   "source": [
    "a = np.array([6,2,5,-1,0], float)\n",
    "print(a)\n",
    "a.clip(0,5)"
   ]
  },
  {
   "cell_type": "code",
   "execution_count": 9,
   "metadata": {},
   "outputs": [
    {
     "data": {
      "text/plain": [
       "array([3, 3, 3, 2, 2])"
      ]
     },
     "execution_count": 9,
     "metadata": {},
     "output_type": "execute_result"
    }
   ],
   "source": [
    "np.where(a > 0,3,2)"
   ]
  },
  {
   "cell_type": "code",
   "execution_count": 40,
   "metadata": {},
   "outputs": [
    {
     "name": "stdout",
     "output_type": "stream",
     "text": [
      "[2. 4. 3.]\n",
      "9.0\n",
      "24.0\n",
      "3.0\n",
      "3.0\n",
      "0.6666666666666666\n",
      "1.0\n",
      "0.816496580927726\n",
      "2.0\n",
      "4.0\n",
      "0\n",
      "1\n",
      "\n",
      "[2. 2.]\n",
      "\n",
      "[ 0. -1.  3.]\n"
     ]
    },
    {
     "data": {
      "text/plain": [
       "array([3., 5.])"
      ]
     },
     "execution_count": 40,
     "metadata": {},
     "output_type": "execute_result"
    }
   ],
   "source": [
    "a = np.array([2,4,3], float)\n",
    "print(a)\n",
    "print(a.sum())\n",
    "print(a.prod())\n",
    "print(a.mean())\n",
    "print(np.median(a))\n",
    "print(a.var())\n",
    "print(np.corrcoef(a))\n",
    "print(np.std(a))\n",
    "print(np.min(a))\n",
    "print(np.max(a))\n",
    "print(np.argmin(a))\n",
    "print(np.argmax(a))\n",
    "print()\n",
    "a = np.array([[0,2],[3,-1],[3,5]], float)\n",
    "print(a.mean(axis=0))\n",
    "print()\n",
    "print(a.min(axis=1))\n",
    "a.max(axis=0)"
   ]
  },
  {
   "cell_type": "code",
   "execution_count": 60,
   "metadata": {},
   "outputs": [
    {
     "name": "stdout",
     "output_type": "stream",
     "text": [
      "[[0. 1.]\n",
      " [2. 3.]]\n",
      "\n",
      "[ 6. 11.]\n",
      "\n",
      "[ 3. 13.]\n",
      "\n",
      "[[2. 4.]\n",
      " [0. 4.]]\n",
      "\n",
      "[[2. 2. 1.]\n",
      " [8. 8. 4.]\n",
      " [0. 0. 0.]]\n",
      "10.0\n",
      "[ 4. -1. -6.]\n"
     ]
    }
   ],
   "source": [
    "a = np.array([1,2,3],float); b = np.array([0,1,1], float)\n",
    "np.dot(a,b) * 1*0 + 2*1 + 3*1\n",
    "a = np.array([[0,1],[2,3]], float)\n",
    "b = np.array([2,3], float)\n",
    "c = np.array([[1,1],[4,0]], float)\n",
    "print(a)\n",
    "print()\n",
    "print(np.dot(b,a))\n",
    "print()\n",
    "print(np.dot(a,b))\n",
    "print()\n",
    "print(np.dot(c,a))\n",
    "print()\n",
    "a = np.array([1,4,0], float); b = np.array([2,2,1], float)\n",
    "print(np.outer(a,b))\n",
    "print(np.inner(a,b))\n",
    "print(np.cross(a,b))"
   ]
  },
  {
   "cell_type": "code",
   "execution_count": 74,
   "metadata": {},
   "outputs": [
    {
     "name": "stdout",
     "output_type": "stream",
     "text": [
      "[1. 4.]\n",
      "[ 1  8 15 22]\n",
      "[[ 1  2  3  4  5  6]\n",
      " [ 7  8  9 10 11 12]\n",
      " [13 14 15 16 17 18]\n",
      " [19 20 21 22 23 24]]\n",
      "[1. 1. 1.]\n",
      "[2. 2. 2.]\n",
      "[1. 2. 2.]\n",
      "[1. 2. 2.]\n"
     ]
    }
   ],
   "source": [
    "a = np.array([1,1,4,5,5,5,7], float)\n",
    "np.unique(a)\n",
    "a = np.array([[1,2],[3,4]], float)\n",
    "b = np.arange(1,25).reshape(4,6)\n",
    "print(a.diagonal())\n",
    "print(b.diagonal())\n",
    "print(b)\n",
    "a = np.array([1.1,1.5,1.9], float)\n",
    "print(np.floor(a))\n",
    "print(np.ceil(a))\n",
    "print(np.round(a))\n",
    "print(np.rint(a))"
   ]
  },
  {
   "cell_type": "code",
   "execution_count": 93,
   "metadata": {},
   "outputs": [
    {
     "name": "stdout",
     "output_type": "stream",
     "text": [
      "[[ 1  2  3  4  5  6]\n",
      " [ 7  8  9 10 11 12]\n",
      " [13 14 15 16 17 18]\n",
      " [19 20 21 22 23 24]]\n",
      "\n",
      "[[25 26 27 28 29 30]\n",
      " [31 32 33 34 35 36]\n",
      " [37 38 39 40 41 42]\n",
      " [43 44 45 46 47 48]]\n",
      "1\n",
      "4\n",
      "5\n",
      "1.0 [1. 2.]\n",
      "3.0 [3. 4.]\n",
      "5.0 [5. 6.]\n",
      "\n",
      "2.0\n",
      "\n",
      "12.0\n",
      "\n",
      "30.0\n",
      "\n"
     ]
    }
   ],
   "source": [
    "a = np.arange(1,25).reshape(4,6); b = np.arange(25,49).reshape(4,6)\n",
    "print(a)\n",
    "print()\n",
    "print(b)\n",
    "a+100\n",
    "np.arange(3) +5\n",
    "a = np.array([1,4,5], int)\n",
    "for x in a:\n",
    "    print(x)\n",
    "a = np.array([[1,2],[3,4],[5,6]], float)\n",
    "for x in a:\n",
    "    print(x[0], x)\n",
    "print()\n",
    "a = np.array([[1,2],[3,4],[5,6]], float)\n",
    "for (x,y) in a:\n",
    "    print(x*y)\n",
    "    print()"
   ]
  },
  {
   "cell_type": "code",
   "execution_count": 103,
   "metadata": {},
   "outputs": [
    {
     "name": "stdout",
     "output_type": "stream",
     "text": [
      "[[-5.   -4.99 -4.98 ...  4.97  4.98  4.99]\n",
      " [-5.   -4.99 -4.98 ...  4.97  4.98  4.99]\n",
      " [-5.   -4.99 -4.98 ...  4.97  4.98  4.99]\n",
      " ...\n",
      " [-5.   -4.99 -4.98 ...  4.97  4.98  4.99]\n",
      " [-5.   -4.99 -4.98 ...  4.97  4.98  4.99]\n",
      " [-5.   -4.99 -4.98 ...  4.97  4.98  4.99]]\n",
      "[[-5.   -5.   -5.   ... -5.   -5.   -5.  ]\n",
      " [-4.99 -4.99 -4.99 ... -4.99 -4.99 -4.99]\n",
      " [-4.98 -4.98 -4.98 ... -4.98 -4.98 -4.98]\n",
      " ...\n",
      " [ 4.97  4.97  4.97 ...  4.97  4.97  4.97]\n",
      " [ 4.98  4.98  4.98 ...  4.98  4.98  4.98]\n",
      " [ 4.99  4.99  4.99 ...  4.99  4.99  4.99]]\n",
      "[1 2 3 4 5 6 7 8 9]\n",
      "[[1 2 3 4 5 6 7 8 9]\n",
      " [1 2 3 4 5 6 7 8 9]\n",
      " [1 2 3 4 5 6 7 8 9]\n",
      " [1 2 3 4 5 6 7 8 9]\n",
      " [1 2 3 4 5 6 7 8 9]\n",
      " [1 2 3 4 5 6 7 8 9]\n",
      " [1 2 3 4 5 6 7 8 9]\n",
      " [1 2 3 4 5 6 7 8 9]\n",
      " [1 2 3 4 5 6 7 8 9]]\n",
      "[[1 1 1 1 1 1 1 1 1]\n",
      " [2 2 2 2 2 2 2 2 2]\n",
      " [3 3 3 3 3 3 3 3 3]\n",
      " [4 4 4 4 4 4 4 4 4]\n",
      " [5 5 5 5 5 5 5 5 5]\n",
      " [6 6 6 6 6 6 6 6 6]\n",
      " [7 7 7 7 7 7 7 7 7]\n",
      " [8 8 8 8 8 8 8 8 8]\n",
      " [9 9 9 9 9 9 9 9 9]]\n",
      "[[ 1  2  3  4  5  6  7  8  9]\n",
      " [ 2  4  6  8 10 12 14 16 18]\n",
      " [ 3  6  9 12 15 18 21 24 27]\n",
      " [ 4  8 12 16 20 24 28 32 36]\n",
      " [ 5 10 15 20 25 30 35 40 45]\n",
      " [ 6 12 18 24 30 36 42 48 54]\n",
      " [ 7 14 21 28 35 42 49 56 63]\n",
      " [ 8 16 24 32 40 48 56 64 72]\n",
      " [ 9 18 27 36 45 54 63 72 81]]\n"
     ]
    }
   ],
   "source": [
    "points = np.arange(-5,5,0.01)\n",
    "xs,ys = np.meshgrid(points,points)\n",
    "print(xs)\n",
    "print(ys)\n",
    "nums = np.arange(1,10)\n",
    "print(nums)\n",
    "xs, ys = np.meshgrid(nums, nums)\n",
    "print(xs)\n",
    "print(ys)\n",
    "print(xs * ys)"
   ]
  },
  {
   "cell_type": "code",
   "execution_count": 130,
   "metadata": {},
   "outputs": [
    {
     "name": "stdout",
     "output_type": "stream",
     "text": [
      "-5.0\n",
      "\n",
      "-4.910000000000002\n",
      "7.007717174658237\n"
     ]
    }
   ],
   "source": [
    "a = np.zeros((points.shape[0], points.shape[0]))\n",
    "z = np.sqrt(xs**2+ys**2)\n",
    "print(xs)\n",
    "print()\n",
    "print(ys)\n",
    "print(z)"
   ]
  },
  {
   "cell_type": "code",
   "execution_count": 138,
   "metadata": {},
   "outputs": [
    {
     "name": "stdout",
     "output_type": "stream",
     "text": [
      "[[7.07106781 7.06400028 7.05693985 ... 7.04988652 7.05693985 7.06400028]\n",
      " [7.06400028 7.05692568 7.04985815 ... 7.04279774 7.04985815 7.05692568]\n",
      " [7.05693985 7.04985815 7.04278354 ... 7.03571603 7.04278354 7.04985815]\n",
      " ...\n",
      " [7.04988652 7.04279774 7.03571603 ... 7.0286414  7.03571603 7.04279774]\n",
      " [7.05693985 7.04985815 7.04278354 ... 7.03571603 7.04278354 7.04985815]\n",
      " [7.06400028 7.05692568 7.04985815 ... 7.04279774 7.04985815 7.05692568]]\n"
     ]
    }
   ],
   "source": [
    "for ii, xs in enumerate(points):\n",
    "    for jj, ys in enumerate(points):\n",
    "        a[ii,jj] = np.sqrt(xs**2+ys**2)\n",
    "print(a)"
   ]
  },
  {
   "cell_type": "code",
   "execution_count": 212,
   "metadata": {
    "scrolled": true
   },
   "outputs": [
    {
     "name": "stdout",
     "output_type": "stream",
     "text": [
      "[[0.21601278 0.50865283 0.22180293]\n",
      " [0.67677239 0.62137497 0.56029434]\n",
      " [0.79521399 0.34124569 0.22804591]]\n",
      "[[0.21601278 0.50865283 0.22180293]\n",
      " [0.67677239 0.62137497 0.56029434]\n",
      " [0.79521399 0.34124569 0.22804591]]\n",
      "\n",
      "[[0.21601278 0.22180293 0.50865283]\n",
      " [0.56029434 0.62137497 0.67677239]\n",
      " [0.22804591 0.34124569 0.79521399]]\n",
      "\n",
      "[[0.21601278 0.50865283 0.22180293]\n",
      " [0.67677239 0.62137497 0.56029434]\n",
      " [0.79521399 0.34124569 0.22804591]]\n",
      "[[0.21601278 0.34124569 0.22180293]\n",
      " [0.67677239 0.50865283 0.22804591]\n",
      " [0.79521399 0.62137497 0.56029434]]\n",
      "[[0.21601278 0.22180293 0.50865283]\n",
      " [0.56029434 0.62137497 0.67677239]\n",
      " [0.22804591 0.34124569 0.79521399]]\n"
     ]
    },
    {
     "data": {
      "text/plain": [
       "array([[0, 2, 1],\n",
       "       [2, 1, 0],\n",
       "       [2, 1, 0]])"
      ]
     },
     "execution_count": 212,
     "metadata": {},
     "output_type": "execute_result"
    }
   ],
   "source": [
    "unsrt = np.random.random((3,3))\n",
    "print(unsrt)\n",
    "unsrt1 = unsrt.copy()\n",
    "print(unsrt1)\n",
    "print()\n",
    "print(np.sort(unsrt1))\n",
    "unsrt2 = unsrt.copy()\n",
    "print()\n",
    "print(unsrt2)\n",
    "\n",
    "unsrt3 = unsrt.copy()\n",
    "\n",
    "print(np.sort(unsrt2, axis=0))\n",
    "print(np.sort(unsrt3, axis=1))\n",
    "unsrt1.argsort()"
   ]
  },
  {
   "cell_type": "code",
   "execution_count": 213,
   "metadata": {},
   "outputs": [
    {
     "name": "stdout",
     "output_type": "stream",
     "text": [
      "(12,)\n",
      "True\n",
      "(12,)\n",
      "[[ 0  1  2  3]\n",
      " [ 4  5  6  7]\n",
      " [ 8  9 10 11]]\n"
     ]
    },
    {
     "data": {
      "text/plain": [
       "(3, 4)"
      ]
     },
     "execution_count": 213,
     "metadata": {},
     "output_type": "execute_result"
    }
   ],
   "source": [
    "a = np.arange(12)\n",
    "b = a\n",
    "print(a.shape)\n",
    "print(b is a)\n",
    "print(b.shape)\n",
    "b.shape = 3,4\n",
    "print(b)\n",
    "a.shape"
   ]
  },
  {
   "cell_type": "code",
   "execution_count": 214,
   "metadata": {},
   "outputs": [
    {
     "name": "stdout",
     "output_type": "stream",
     "text": [
      "[[ 0  1  2  3]\n",
      " [ 4  5  6  7]\n",
      " [ 8  9 10 11]]\n",
      "[[ 0  1  2  3]\n",
      " [ 4  5  6  7]\n",
      " [ 8  9 10 11]]\n",
      "False\n",
      "True\n",
      "\n",
      "[[ 0  1  2  3]\n",
      " [ 4  5  6  7]\n",
      " [ 8  9 10 11]]\n",
      "\n",
      "[[ 0  1  2]\n",
      " [ 3  4  5]\n",
      " [ 6  7  8]\n",
      " [ 9 10 11]]\n",
      "\n",
      "[[ 0  1  2  3]\n",
      " [ 4  5  6  7]\n",
      " [ 8  9 10 11]]\n"
     ]
    }
   ],
   "source": [
    "c = a.view()\n",
    "print(a)\n",
    "print(c)\n",
    "c is a\n",
    "\n",
    "print(c.base is c)\n",
    "print(c.base is a)\n",
    "print()\n",
    "print(c)\n",
    "c.shape = 4,3\n",
    "print()\n",
    "print(c)\n",
    "print()\n",
    "print(a)\n"
   ]
  },
  {
   "cell_type": "code",
   "execution_count": 221,
   "metadata": {},
   "outputs": [
    {
     "name": "stdout",
     "output_type": "stream",
     "text": [
      "\n",
      "[[   0    1 1234]\n",
      " [   3    4    5]\n",
      " [   6    7    8]\n",
      " [   9   10   11]]\n",
      "False\n",
      "[[9999    1 1234    3]\n",
      " [   4    5    6    7]\n",
      " [   8    9   10   11]]\n",
      "[[   0    1 1234    3]\n",
      " [   4    5    6    7]\n",
      " [   8    9   10   11]]\n"
     ]
    }
   ],
   "source": [
    "c[0,2] = 1234\n",
    "print()\n",
    "print(c)\n",
    "d = a.copy()\n",
    "print(d is a)\n",
    "d.base is a\n",
    "d[0,0] = 9999\n",
    "print(d)\n",
    "print(a)"
   ]
  },
  {
   "cell_type": "code",
   "execution_count": 226,
   "metadata": {},
   "outputs": [
    {
     "data": {
      "text/plain": [
       "array([[4, 6, 5],\n",
       "       [3, 8, 2]])"
      ]
     },
     "execution_count": 226,
     "metadata": {},
     "output_type": "execute_result"
    }
   ],
   "source": [
    "a = np.random.randint(0,10,(2,3))\n",
    "b = np.random.randint(0,10,(2,3))\n",
    "\n",
    "np.save(\"./my_arr1\",a)\n",
    "np.savez(\"./my_arrs\",a,b)\n",
    "np_file = np.load(\"./my_arrs.npz\")\n",
    "np_file.files\n",
    "np_file['arr_0']\n",
    "np_fil\n"
   ]
  },
  {
   "cell_type": "code",
   "execution_count": null,
   "metadata": {},
   "outputs": [],
   "source": []
  }
 ],
 "metadata": {
  "kernelspec": {
   "display_name": "Python 3",
   "language": "python",
   "name": "python3"
  },
  "language_info": {
   "codemirror_mode": {
    "name": "ipython",
    "version": 3
   },
   "file_extension": ".py",
   "mimetype": "text/x-python",
   "name": "python",
   "nbconvert_exporter": "python",
   "pygments_lexer": "ipython3",
   "version": "3.8.3"
  }
 },
 "nbformat": 4,
 "nbformat_minor": 4
}
