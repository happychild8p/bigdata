{
 "cells": [
  {
   "cell_type": "code",
   "execution_count": 2,
   "metadata": {},
   "outputs": [],
   "source": [
    "import numpy as np\n",
    "import matplotlib.pyplot as plt"
   ]
  },
  {
   "cell_type": "code",
   "execution_count": 6,
   "metadata": {},
   "outputs": [
    {
     "data": {
      "text/plain": [
       "<matplotlib.image.AxesImage at 0x7f1d490629d0>"
      ]
     },
     "execution_count": 6,
     "metadata": {},
     "output_type": "execute_result"
    },
    {
     "data": {
      "image/png": "[encoded data removed]",
      "text/plain": [
       "<Figure size 432x288 with 1 Axes>"
      ]
     },
     "metadata": {
      "needs_background": "light"
     },
     "output_type": "display_data"
    }
   ],
   "source": [
    "empty = np.zeros((5,5))\n",
    "full = np.full((5,5), 255)\n",
    "half = np.concatenate([empty, full], axis=0)\n",
    "half2 = np.concatenate([full, empty], axis=0)\n",
    "one = np.concatenate([half, half2], axis=1)\n",
    "result = one\n",
    "for i in range(1,20):\n",
    "    result = np.concatenate([result, one], axis=1)\n",
    "result\n",
    "plt.imshow(result)\n",
    "result2 = np.tile(one, (1,20))\n",
    "plt.imshow(result2)"
   ]
  },
  {
   "cell_type": "code",
   "execution_count": 72,
   "metadata": {},
   "outputs": [
    {
     "data": {
      "text/plain": [
       "<matplotlib.image.AxesImage at 0x7f37549312b0>"
      ]
     },
     "execution_count": 72,
     "metadata": {},
     "output_type": "execute_result"
    },
    {
     "data": {
      "image/png": "[encoded data removed]",
      "text/plain": [
       "<Figure size 432x288 with 1 Axes>"
      ]
     },
     "metadata": {
      "needs_background": "light"
     },
     "output_type": "display_data"
    }
   ],
   "source": [
    "empty2 = np.zeros((200,200))\n",
    "for i in range(1,9):\n",
    "    num = i*10\n",
    "    if i % 2 != 0:\n",
    "        empty[num:(200-num),num:(200-num)] = np.full((200-(2*num),200-(2*num)), 255)\n",
    "    else:\n",
    "        empty[num:(200-num),num:(200-num)] = np.empty((200-(2*num),200-(2*num)))\n",
    "plt.imshow(empty)"
   ]
  },
  {
   "cell_type": "code",
   "execution_count": 10,
   "metadata": {
    "scrolled": true
   },
   "outputs": [
    {
     "data": {
      "text/plain": [
       "<matplotlib.image.AxesImage at 0x7f1d49036ac0>"
      ]
     },
     "execution_count": 10,
     "metadata": {},
     "output_type": "execute_result"
    },
    {
     "data": {
      "image/png": "[encoded data removed]",
      "text/plain": [
       "<Figure size 432x288 with 1 Axes>"
      ]
     },
     "metadata": {
      "needs_background": "light"
     },
     "output_type": "display_data"
    }
   ],
   "source": [
    "empty3 = np.zeros((200,200))\n",
    "sq = np.full((40,40),255)\n",
    "for i in range(5):\n",
    "    empty3[i*40:(i*40)+40,i*40:(i*40)+40] = sq\n",
    "plt.imshow(empty3)"
   ]
  },
  {
   "cell_type": "code",
   "execution_count": 38,
   "metadata": {},
   "outputs": [
    {
     "data": {
      "text/plain": [
       "<matplotlib.image.AxesImage at 0x7f1d475a0970>"
      ]
     },
     "execution_count": 38,
     "metadata": {},
     "output_type": "execute_result"
    },
    {
     "data": {
      "image/png": "[encoded data removed]",
      "text/plain": [
       "<Figure size 432x288 with 1 Axes>"
      ]
     },
     "metadata": {
      "needs_background": "light"
     },
     "output_type": "display_data"
    }
   ],
   "source": [
    "empty4 = np.zeros((40,1000))\n",
    "sq_col = np.full((40,40), 255)\n",
    "sq_empty = np.zeros((40,40))\n",
    "\n",
    "for i in range(25):\n",
    "    if i % 2 == 0:\n",
    "        empty4[:,i*40:(i+1)*40] = sq_col\n",
    "    else:\n",
    "        empty4[:,i*40:(i+1)*40] = sq_empty\n",
    "    if i in [0,4,20,24]:\n",
    "        empty4[:,i*40:(i+1)*40] = sq_empty\n",
    "result = np.zeros((200,200))\n",
    "for j in range(5):\n",
    "    result[j*40:(j+1)*40,:] = empty4[:,j*200:(j+1)*200]\n",
    "plt.imshow(result)"
   ]
  },
  {
   "cell_type": "code",
   "execution_count": null,
   "metadata": {},
   "outputs": [],
   "source": []
  }
 ],
 "metadata": {
  "kernelspec": {
   "display_name": "Python 3",
   "language": "python",
   "name": "python3"
  },
  "language_info": {
   "codemirror_mode": {
    "name": "ipython",
    "version": 3
   },
   "file_extension": ".py",
   "mimetype": "text/x-python",
   "name": "python",
   "nbconvert_exporter": "python",
   "pygments_lexer": "ipython3",
   "version": "3.8.3"
  }
 },
 "nbformat": 4,
 "nbformat_minor": 4
}
